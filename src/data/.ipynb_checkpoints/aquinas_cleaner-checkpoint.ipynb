{
 "cells": [
  {
   "cell_type": "code",
   "execution_count": 3,
   "metadata": {},
   "outputs": [
    {
     "data": {
      "text/plain": [
       "dict_keys(['Volume 1', 'Volume 2', 'Volume 3', 'Volume 4', 'Volume 5'])"
      ]
     },
     "execution_count": 3,
     "metadata": {},
     "output_type": "execute_result"
    }
   ],
   "source": [
    "import json\n",
    "\n",
    "with open(\"aquinas_raw.json\", \"rb\") as handle:\n",
    "    data = json.load(handle)\n",
    "data.keys()"
   ]
  },
  {
   "cell_type": "code",
   "execution_count": 4,
   "metadata": {},
   "outputs": [
    {
     "data": {
      "text/plain": [
       "dict_keys(['Question 1. The nature and extent of sacred doctrine', 'Question 2. The existence of God', 'Question 3. The simplicity of God', 'Question 6. The goodness of God', 'Question 5. Goodness in general', 'Question 4. The perfection of God', 'Question 7. The infinity of God', 'Question 8. The existence of God in things', 'Question 9. The immutability of God', 'Question 10. The eternity of God', 'Question 11. The unity of God', 'Question 12. How God is known by us', 'Question 13. The names of God', \"Question 14. God's knowledge\", 'Question 15. Ideas', 'Question 16. Truth', 'Question 17. Falsity', 'Question 18. The life of God', 'Question 19. The will of God', \"Question 20. God's love\", 'Question 21. The justice and mercy of God', 'Question 22. The providence of God', 'Question 23. Predestination', 'Question 24. The book of life', 'Question 25. The power of God', 'Question 26. The divine beatitude', 'Question 27. The procession of the divine persons', 'Question 28. The divine relations', 'Question 29. The divine persons', 'Question 30. The plurality of persons in God', 'Question 31. The unity or plurality in God', 'Question 32. The knowledge of the divine persons', 'Question 33. The person of the Father', 'Question 34. The person of the Son', 'Question 35. The Image', 'Question 36. The person of the Holy Ghost', 'Question 37. The name of the Holy Ghost—Love', 'Question 38. The name of the Holy Ghost, as Gift', 'Question 39. The persons in relation to the essence', 'Question 40. The persons as compared to the relations or properties', 'Question 41. The persons in reference to the notional acts', 'Question 42. Equality and likeness among the divine persons', 'Question 43. The mission of the divine persons', 'Question 44. The procession of creatures from God, and of the first cause of all things', 'Question 45. The mode of emanation of things from the first principle', 'Question 46. The beginning of the duration of creatures', 'Question 47. The distinction of things in general', 'Question 48. The distinction of things in particular', 'Question 49. The cause of evil', 'Question 50. The substance of the angels absolutely considered', 'Question 51. The angels in comparison with bodies', 'Question 52. The angels in relation to place', 'Question 53. The local movement of the angels', 'Question 54. The knowledge of the angels', 'Question 55. The medium of the angelic knowledge', \"Question 56. The angel's knowledge of immaterial things\", \"Question 57. The angel's knowledge of material things\", 'Question 58. The mode of angelic knowledge', 'Question 59. The will of the angels', 'Question 60. The love or dilection of the angels', 'Question 61. The production of the angels in the order of natural being', 'Question 62. The perfection of the angels in the order of grace and of glory', 'Question 63. The malice of the angels with regard to sin', 'Question 64. The punishment of the demons', 'Question 65. The work of creation of corporeal creatures', 'Question 66. The order of creation towards distinction', 'Question 67. The work of distinction in itself', 'Question 68. The work of the second day', 'Question 69. The work of the third day', 'Question 70. The work of adornment, as regards the fourth day', 'Question 71. The work of the fifth day', 'Question 72. The work of the sixth day', 'Question 73. The things that belong to the seventh day', 'Question 74. All the seven days in common', 'Question 75. Man who is composed of a spiritual and a corporeal substance: and in the first place, concerning what belongs to the essence of the soul', 'Question 76. The union of body and soul', 'Question 77. The powers of the soul in general', 'Question 78. The specific powers of the soul', 'Question 79. The intellectual powers', 'Question 80. The appetitive powers in general', 'Question 81. The power of sensuality', 'Question 82. The will', 'Question 83. Free-will', 'Question 84. How the soul while united to the body understands corporeal things beneath it', 'Question 85. The mode and order of understanding', 'Question 86. What our intellect knows in material things', 'Question 87. How the intellectual soul knows itself and all within itself', 'Question 88. How the human soul knows what is above itself', 'Question 89. The knowledge of the separated soul', \"Question 90. The first production of man's soul\", \"Question 91. The production of the first man's body\", 'Question 92. The production of the woman', 'Question 93. The end or term of the production of man', 'Question 94. The state and condition of the first man as regards his intellect', \"Question 95. Things pertaining to the first man's will—namely, grace and righteousness\", 'Question 96. The mastership belonging to man in the state of innocence', 'Question 97. The preservation of the individual in the primitive state', 'Question 98. The preservation of the species', 'Question 99. The condition of the offspring as to the body', 'Question 100. The condition of the offspring as regards righteousness', 'Question 101. The condition of the offspring as regards knowledge', \"Question 102. Man's abode, which is paradise\", 'Question 103. The government of things in general', 'Question 104. The special effects of the divine government', 'Question 105. The change of creatures by God', 'Question 106. How one creature moves another', 'Question 107. The speech of the angels', 'Question 108. The angelic degrees of hierarchies and orders', 'Question 109. The ordering of the bad angels', 'Question 110. How angels act on bodies', 'Question 111. The action of the angels on man', 'Question 112. The mission of the angels', 'Question 113. The guardianship of the good angels', 'Question 114. The assaults of the demons', 'Question 115. The action of the corporeal creature', 'Question 116. Fate', 'Question 117. The action of man', 'Question 118. The production of man from man as to the soul', 'Question 119. The propagation of man as to the body'])"
      ]
     },
     "execution_count": 4,
     "metadata": {},
     "output_type": "execute_result"
    }
   ],
   "source": [
    "data[\"Volume 1\"].keys()"
   ]
  },
  {
   "cell_type": "code",
   "execution_count": 5,
   "metadata": {},
   "outputs": [
    {
     "data": {
      "text/plain": [
       "dict_keys(['body', 'objections', 'replies'])"
      ]
     },
     "execution_count": 5,
     "metadata": {},
     "output_type": "execute_result"
    }
   ],
   "source": [
    "data[\"Volume 1\"]['Question 1. The nature and extent of sacred doctrine']['Article 1. Whether, besides philosophy, any further doctrine is required?'].keys()"
   ]
  },
  {
   "cell_type": "code",
   "execution_count": 12,
   "metadata": {},
   "outputs": [
    {
     "data": {
      "text/plain": [
       "({'volume': 'Volume 1',\n",
       "  'volumeKey': 'v1',\n",
       "  'questionTitle': 'Question 1. The nature and extent of sacred doctrine',\n",
       "  'question': 'Question 1.',\n",
       "  'questionKey': 'q1',\n",
       "  'articleTitle': 'Article 1. Whether, besides philosophy, any further doctrine is required?',\n",
       "  'article': 'Article 1.',\n",
       "  'articleKey': 'a1.',\n",
       "  'articleObjections': ['Objection 1. It seems that, besides philosophical science, we have no need of any further knowledge. For man should not seek to know what is above reason: \"Seek not the things that are too high for thee\" (Sirach 3:22). But whatever is not above reason is fully treated of in philosophical science. Therefore any other knowledge besides philosophical science is superfluous.',\n",
       "   'Objection 2. Further, knowledge can be concerned only with being, for nothing can be known, save what is true; and all that is, is true. But everything that is, is treated of in philosophical science—even God Himself; so that there is a part of philosophy called theology, or the divine science, as Aristotle has proved (Metaph. vi). Therefore, besides philosophical science, there is no need of any further knowledge.'],\n",
       "  'articleBody': ['On the contrary, It is written (2 Timothy 3:16): \"All Scripture, inspired of God is profitable to teach, to reprove, to correct, to instruct in justice.\" Now Scripture, inspired of God, is no part of philosophical science, which has been built up by human reason. Therefore it is useful that besides philosophical science, there should be other knowledge, i.e. inspired of God.',\n",
       "   'I answer that, It was necessary for man\\'s salvation that there should be a knowledge revealed by God besides philosophical science built up by human reason. Firstly, indeed, because man is directed to God, as to an end that surpasses the grasp of his reason: \"The eye hath not seen, O God, besides Thee, what things Thou hast prepared for them that wait for Thee\" (Isaiah 64:4). But the end must first be known by men who are to direct their thoughts and actions to the end. Hence it was necessary for the salvation of man that certain truths which exceed human reason should be made known to him by divine revelation. Even as regards those truths about God which human reason could have discovered, it was necessary that man should be taught by a divine revelation; because the truth about God such as reason could discover, would only be known by a few, and that after a long time, and with the admixture of many errors. Whereas man\\'s whole salvation, which is in God, depends upon the knowledge of this truth. Therefore, in order that the salvation of men might be brought about more fitly and more surely, it was necessary that they should be taught divine truths by divine revelation. It was therefore necessary that besides philosophical science built up by reason, there should be a sacred science learned through revelation.'],\n",
       "  'articleReplyToObjections': ['Reply to Objection 1. Although those things which are beyond man\\'s knowledge may not be sought for by man through his reason, nevertheless, once they are revealed by God, they must be accepted by faith. Hence the sacred text continues, \"For many things are shown to thee above the understanding of man\" (Sirach 3:25). And in this, the sacred science consists.',\n",
       "   'Reply to Objection 2. Sciences are differentiated according to the various means through which knowledge is obtained. For the astronomer and the physicist both may prove the same conclusion: that the earth, for instance, is round: the astronomer by means of mathematics (i.e. abstracting from matter), but the physicist by means of matter itself. Hence there is no reason why those things which may be learned from philosophical science, so far as they can be known by natural reason, may not also be taught us by another science so far as they fall within revelation. Hence theology included in sacred doctrine differs in kind from that theology which is part of philosophy.']},\n",
       " {'volume': 'Volume 1',\n",
       "  'volumeKey': 'v1',\n",
       "  'questionTitle': 'Question 1. The nature and extent of sacred doctrine',\n",
       "  'question': 'Question 1.',\n",
       "  'questionKey': 'q1',\n",
       "  'articleTitle': 'Article 1. Whether, besides philosophy, any further doctrine is required?',\n",
       "  'article': 'Article 1.',\n",
       "  'articleKey': 'a1.'})"
      ]
     },
     "execution_count": 12,
     "metadata": {},
     "output_type": "execute_result"
    }
   ],
   "source": [
    "real_json = []\n",
    "shell_json = []\n",
    "for v in data:\n",
    "    for q in data[v]:\n",
    "        for a in data[v][q]:\n",
    "            uniqueKey = \"\"\n",
    "            vKey = \"v\" + v.split(\" \")[-1]\n",
    "            qKey = \"q\" + q.split(\" \")[1].replace(\".\", \"\")\n",
    "            aKey = \"a\" + a.split(\" \")[1]\n",
    "            #print(vKey, qKey, aKey)\n",
    "            real_json.append({\n",
    "                \"volume\":v,\n",
    "                \"volumeKey\":vKey,\n",
    "                \"questionTitle\":q,\n",
    "                \"question\":\" \".join([i for i in q.split(\" \")[:2]]),\n",
    "                \"questionKey\":qKey,\n",
    "                \"articleTitle\": a,\n",
    "                \"article\":\" \".join([i for i in a.split(\" \")[:2]]),\n",
    "                \"articleKey\":aKey,\n",
    "                \"articleObjections\":data[v][q][a][\"objections\"],\n",
    "                \"articleBody\": data[v][q][a][\"body\"],\n",
    "                \"articleReplyToObjections\": data[v][q][a][\"replies\"]\n",
    "            })\n",
    "            shell_json.append({\n",
    "                \"volume\":v,\n",
    "                \"volumeKey\":vKey,\n",
    "                \"questionTitle\":q,\n",
    "                \"question\":\" \".join([i for i in q.split(\" \")[:2]]),\n",
    "                \"questionKey\":qKey,\n",
    "                \"articleTitle\": a,\n",
    "                \"article\":\" \".join([i for i in a.split(\" \")[:2]]),\n",
    "                \"articleKey\":aKey,\n",
    "            })\n",
    "\n",
    "real_json[0], shell_json[0]"
   ]
  },
  {
   "cell_type": "code",
   "execution_count": 7,
   "metadata": {},
   "outputs": [],
   "source": [
    "with open(\"aquinas.json\", \"w\") as handle:\n",
    "    json.dump(real_json, handle)\n"
   ]
  },
  {
   "cell_type": "code",
   "execution_count": 1,
   "metadata": {},
   "outputs": [
    {
     "data": {
      "text/plain": [
       "dict_keys(['Volume 1', 'Volume 2', 'Volume 3', 'Volume 4', 'Volume 5'])"
      ]
     },
     "execution_count": 1,
     "metadata": {},
     "output_type": "execute_result"
    }
   ],
   "source": [
    "import json\n",
    "\n",
    "with open(\"aquinas_raw.json\", \"rb\") as handle:\n",
    "    data = json.load(handle)\n",
    "data.keys()"
   ]
  },
  {
   "cell_type": "code",
   "execution_count": 2,
   "metadata": {},
   "outputs": [
    {
     "ename": "KeyError",
     "evalue": "0",
     "output_type": "error",
     "traceback": [
      "\u001b[1;31m---------------------------------------------------------------------------\u001b[0m",
      "\u001b[1;31mKeyError\u001b[0m                                  Traceback (most recent call last)",
      "\u001b[1;32m<ipython-input-2-80a4aab09c73>\u001b[0m in \u001b[0;36m<module>\u001b[1;34m\u001b[0m\n\u001b[1;32m----> 1\u001b[1;33m \u001b[0mdata\u001b[0m\u001b[1;33m[\u001b[0m\u001b[1;36m0\u001b[0m\u001b[1;33m]\u001b[0m\u001b[1;33m\u001b[0m\u001b[1;33m\u001b[0m\u001b[0m\n\u001b[0m",
      "\u001b[1;31mKeyError\u001b[0m: 0"
     ]
    }
   ],
   "source": []
  },
  {
   "cell_type": "code",
   "execution_count": null,
   "metadata": {},
   "outputs": [],
   "source": []
  }
 ],
 "metadata": {
  "kernelspec": {
   "display_name": "Python 3",
   "language": "python",
   "name": "python3"
  },
  "language_info": {
   "codemirror_mode": {
    "name": "ipython",
    "version": 3
   },
   "file_extension": ".py",
   "mimetype": "text/x-python",
   "name": "python",
   "nbconvert_exporter": "python",
   "pygments_lexer": "ipython3",
   "version": "3.7.6"
  }
 },
 "nbformat": 4,
 "nbformat_minor": 4
}
