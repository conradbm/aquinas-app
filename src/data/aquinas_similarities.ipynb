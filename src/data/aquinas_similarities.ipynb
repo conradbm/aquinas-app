{
 "cells": [
  {
   "cell_type": "code",
   "execution_count": 7,
   "metadata": {},
   "outputs": [
    {
     "data": {
      "text/plain": [
       "{'volume': 'Volume 1',\n",
       " 'volumeKey': 'v1',\n",
       " 'questionTitle': 'Question 1. The nature and extent of sacred doctrine',\n",
       " 'question': 'Question 1.',\n",
       " 'questionKey': 'q1',\n",
       " 'articleTitle': 'Article 1. Whether, besides philosophy, any further doctrine is required?',\n",
       " 'article': 'Article 1.',\n",
       " 'articleKey': 'a1',\n",
       " 'articleObjections': ['Objection 1. It seems that, besides philosophical science, we have no need of any further knowledge. For man should not seek to know what is above reason: \"Seek not the things that are too high for thee\" (Sirach 3:22). But whatever is not above reason is fully treated of in philosophical science. Therefore any other knowledge besides philosophical science is superfluous.',\n",
       "  'Objection 2. Further, knowledge can be concerned only with being, for nothing can be known, save what is true; and all that is, is true. But everything that is, is treated of in philosophical science—even God Himself; so that there is a part of philosophy called theology, or the divine science, as Aristotle has proved (Metaph. vi). Therefore, besides philosophical science, there is no need of any further knowledge.'],\n",
       " 'articleBody': ['On the contrary, It is written (2 Timothy 3:16): \"All Scripture, inspired of God is profitable to teach, to reprove, to correct, to instruct in justice.\" Now Scripture, inspired of God, is no part of philosophical science, which has been built up by human reason. Therefore it is useful that besides philosophical science, there should be other knowledge, i.e. inspired of God.',\n",
       "  'I answer that, It was necessary for man\\'s salvation that there should be a knowledge revealed by God besides philosophical science built up by human reason. Firstly, indeed, because man is directed to God, as to an end that surpasses the grasp of his reason: \"The eye hath not seen, O God, besides Thee, what things Thou hast prepared for them that wait for Thee\" (Isaiah 64:4). But the end must first be known by men who are to direct their thoughts and actions to the end. Hence it was necessary for the salvation of man that certain truths which exceed human reason should be made known to him by divine revelation. Even as regards those truths about God which human reason could have discovered, it was necessary that man should be taught by a divine revelation; because the truth about God such as reason could discover, would only be known by a few, and that after a long time, and with the admixture of many errors. Whereas man\\'s whole salvation, which is in God, depends upon the knowledge of this truth. Therefore, in order that the salvation of men might be brought about more fitly and more surely, it was necessary that they should be taught divine truths by divine revelation. It was therefore necessary that besides philosophical science built up by reason, there should be a sacred science learned through revelation.'],\n",
       " 'articleReplyToObjections': ['Reply to Objection 1. Although those things which are beyond man\\'s knowledge may not be sought for by man through his reason, nevertheless, once they are revealed by God, they must be accepted by faith. Hence the sacred text continues, \"For many things are shown to thee above the understanding of man\" (Sirach 3:25). And in this, the sacred science consists.',\n",
       "  'Reply to Objection 2. Sciences are differentiated according to the various means through which knowledge is obtained. For the astronomer and the physicist both may prove the same conclusion: that the earth, for instance, is round: the astronomer by means of mathematics (i.e. abstracting from matter), but the physicist by means of matter itself. Hence there is no reason why those things which may be learned from philosophical science, so far as they can be known by natural reason, may not also be taught us by another science so far as they fall within revelation. Hence theology included in sacred doctrine differs in kind from that theology which is part of philosophy.']}"
      ]
     },
     "execution_count": 7,
     "metadata": {},
     "output_type": "execute_result"
    }
   ],
   "source": [
    "import json\n",
    "\n",
    "with open(\"aquinas_new.json\", \"r\") as handle:\n",
    "    data = json.load(handle)\n",
    "data[0]"
   ]
  },
  {
   "cell_type": "code",
   "execution_count": 11,
   "metadata": {},
   "outputs": [
    {
     "data": {
      "text/plain": [
       "3148"
      ]
     },
     "execution_count": 11,
     "metadata": {},
     "output_type": "execute_result"
    }
   ],
   "source": [
    "corpus = []\n",
    "for article in data:\n",
    "    questionTitle = article[\"questionTitle\"]\n",
    "    articleTitle = article[\"articleTitle\"]\n",
    "    objections = article[\"articleObjections\"]\n",
    "    replyBody = article[\"articleBody\"]\n",
    "    replyObjections = article[\"articleReplyToObjections\"]\n",
    "    content = [questionTitle, \n",
    "                         articleTitle, \n",
    "                         \"\\n\".join([i for i in objections]),  \n",
    "                         \"\\n\".join([i for i in replyBody]), \n",
    "                         \"\\n\".join([i for i in replyObjections]) ]\n",
    "    content = \"\\n\".join([_ for _ in content])\n",
    "    corpus.append(content)\n",
    "len(corpus)"
   ]
  },
  {
   "cell_type": "code",
   "execution_count": 12,
   "metadata": {},
   "outputs": [
    {
     "data": {
      "text/plain": [
       "(3148, 18878)"
      ]
     },
     "execution_count": 12,
     "metadata": {},
     "output_type": "execute_result"
    }
   ],
   "source": [
    "from sklearn.feature_extraction.text import TfidfVectorizer\n",
    "\n",
    "vectorizer = TfidfVectorizer()\n",
    "fit = vectorizer.fit(corpus)\n",
    "X = fit.transform(corpus)\n",
    "X.shape"
   ]
  },
  {
   "cell_type": "code",
   "execution_count": 13,
   "metadata": {},
   "outputs": [
    {
     "data": {
      "text/plain": [
       "(3148, 3148)"
      ]
     },
     "execution_count": 13,
     "metadata": {},
     "output_type": "execute_result"
    }
   ],
   "source": [
    "from sklearn.metrics.pairwise import cosine_similarity\n",
    "\n",
    "S = cosine_similarity(X)\n",
    "S.shape"
   ]
  },
  {
   "cell_type": "code",
   "execution_count": 14,
   "metadata": {},
   "outputs": [
    {
     "data": {
      "text/plain": [
       "array([[1.        , 0.4542111 , 0.46876597, ..., 0.14597611, 0.1963869 ,\n",
       "        0.20251295],\n",
       "       [0.4542111 , 1.        , 0.6913056 , ..., 0.10421883, 0.13060916,\n",
       "        0.1421492 ],\n",
       "       [0.46876597, 0.6913056 , 1.        , ..., 0.143358  , 0.15990545,\n",
       "        0.1941399 ],\n",
       "       ...,\n",
       "       [0.14597611, 0.10421883, 0.143358  , ..., 1.        , 0.48288614,\n",
       "        0.58769024],\n",
       "       [0.1963869 , 0.13060916, 0.15990545, ..., 0.48288614, 1.        ,\n",
       "        0.47758759],\n",
       "       [0.20251295, 0.1421492 , 0.1941399 , ..., 0.58769024, 0.47758759,\n",
       "        1.        ]])"
      ]
     },
     "execution_count": 14,
     "metadata": {},
     "output_type": "execute_result"
    }
   ],
   "source": [
    "S"
   ]
  },
  {
   "cell_type": "code",
   "execution_count": 14,
   "metadata": {},
   "outputs": [
    {
     "data": {
      "text/plain": [
       "(3148, 2)"
      ]
     },
     "execution_count": 14,
     "metadata": {},
     "output_type": "execute_result"
    }
   ],
   "source": [
    "import numpy as np\n",
    "from sklearn.manifold import TSNE\n",
    "X_embedded = TSNE(n_components=2).fit_transform(S)\n",
    "X_embedded.shape"
   ]
  },
  {
   "cell_type": "code",
   "execution_count": 16,
   "metadata": {},
   "outputs": [
    {
     "data": {
      "text/plain": [
       "{'volume': 'Volume 1',\n",
       " 'volumeKey': 'v1',\n",
       " 'questionTitle': 'Question 1. The nature and extent of sacred doctrine',\n",
       " 'question': 'Question 1.',\n",
       " 'questionKey': 'q1',\n",
       " 'articleTitle': 'Article 1. Whether, besides philosophy, any further doctrine is required?',\n",
       " 'article': 'Article 1.',\n",
       " 'articleKey': 'a1',\n",
       " 'articleObjections': ['Objection 1. It seems that, besides philosophical science, we have no need of any further knowledge. For man should not seek to know what is above reason: \"Seek not the things that are too high for thee\" (Sirach 3:22). But whatever is not above reason is fully treated of in philosophical science. Therefore any other knowledge besides philosophical science is superfluous.',\n",
       "  'Objection 2. Further, knowledge can be concerned only with being, for nothing can be known, save what is true; and all that is, is true. But everything that is, is treated of in philosophical science—even God Himself; so that there is a part of philosophy called theology, or the divine science, as Aristotle has proved (Metaph. vi). Therefore, besides philosophical science, there is no need of any further knowledge.'],\n",
       " 'articleBody': ['On the contrary, It is written (2 Timothy 3:16): \"All Scripture, inspired of God is profitable to teach, to reprove, to correct, to instruct in justice.\" Now Scripture, inspired of God, is no part of philosophical science, which has been built up by human reason. Therefore it is useful that besides philosophical science, there should be other knowledge, i.e. inspired of God.',\n",
       "  'I answer that, It was necessary for man\\'s salvation that there should be a knowledge revealed by God besides philosophical science built up by human reason. Firstly, indeed, because man is directed to God, as to an end that surpasses the grasp of his reason: \"The eye hath not seen, O God, besides Thee, what things Thou hast prepared for them that wait for Thee\" (Isaiah 64:4). But the end must first be known by men who are to direct their thoughts and actions to the end. Hence it was necessary for the salvation of man that certain truths which exceed human reason should be made known to him by divine revelation. Even as regards those truths about God which human reason could have discovered, it was necessary that man should be taught by a divine revelation; because the truth about God such as reason could discover, would only be known by a few, and that after a long time, and with the admixture of many errors. Whereas man\\'s whole salvation, which is in God, depends upon the knowledge of this truth. Therefore, in order that the salvation of men might be brought about more fitly and more surely, it was necessary that they should be taught divine truths by divine revelation. It was therefore necessary that besides philosophical science built up by reason, there should be a sacred science learned through revelation.'],\n",
       " 'articleReplyToObjections': ['Reply to Objection 1. Although those things which are beyond man\\'s knowledge may not be sought for by man through his reason, nevertheless, once they are revealed by God, they must be accepted by faith. Hence the sacred text continues, \"For many things are shown to thee above the understanding of man\" (Sirach 3:25). And in this, the sacred science consists.',\n",
       "  'Reply to Objection 2. Sciences are differentiated according to the various means through which knowledge is obtained. For the astronomer and the physicist both may prove the same conclusion: that the earth, for instance, is round: the astronomer by means of mathematics (i.e. abstracting from matter), but the physicist by means of matter itself. Hence there is no reason why those things which may be learned from philosophical science, so far as they can be known by natural reason, may not also be taught us by another science so far as they fall within revelation. Hence theology included in sacred doctrine differs in kind from that theology which is part of philosophy.'],\n",
       " 'embedding': {'x1': 8.505269, 'x2': -63.601906}}"
      ]
     },
     "execution_count": 16,
     "metadata": {},
     "output_type": "execute_result"
    }
   ],
   "source": [
    "data_with_embeddings = []\n",
    "for i, article in enumerate(data):\n",
    "    article[\"embedding\"] = {\"x1\": X_embedded[i,0], \"x2\": X_embedded[i,1]}\n",
    "    data_with_embeddings.append(article)\n",
    "data_with_embeddings[0]"
   ]
  },
  {
   "cell_type": "code",
   "execution_count": null,
   "metadata": {},
   "outputs": [],
   "source": [
    "import json\n",
    "with open(\"aquinas_new_with_embeddings.json\", \"w\") as handle:\n",
    "    json.dump(data_with_embeddings, handle)"
   ]
  },
  {
   "cell_type": "code",
   "execution_count": 40,
   "metadata": {},
   "outputs": [],
   "source": [
    "import numpy as np\n",
    "topHits = S[0,:].argsort()[::-1][:10]"
   ]
  },
  {
   "cell_type": "code",
   "execution_count": 41,
   "metadata": {},
   "outputs": [
    {
     "name": "stdout",
     "output_type": "stream",
     "text": [
      "Article 1. Whether, besides philosophy, any further doctrine is required?\n",
      "Article 7. Whether God is the object of this science?\n",
      "Article 4. Whether it is necessary to believe those things which can be proved by natural reason?\n",
      "Article 3. Whether sacred doctrine is one science?\n",
      "Article 4. Whether sacred doctrine is a practical science?\n",
      "Article 2. Whether sacred doctrine is a science?\n",
      "Article 5. Whether those things that are of faith can be an object of science [Science is certain knowledge of a demonstrated conclusion through its demonstration]?\n",
      "Article 5. Whether sacred doctrine is nobler than other sciences?\n",
      "Article 6. Whether this doctrine is the same as wisdom?\n",
      "Article 2. Whether there are only three habits of the speculative intellect, viz. wisdom, science and understanding?\n"
     ]
    }
   ],
   "source": [
    "for hit in topHits:\n",
    "    print(data[hit][\"articleTitle\"])"
   ]
  },
  {
   "cell_type": "code",
   "execution_count": 15,
   "metadata": {},
   "outputs": [
    {
     "name": "stdout",
     "output_type": "stream",
     "text": [
      "3148\n"
     ]
    }
   ],
   "source": [
    "similarity_records = []\n",
    "for i in range(len(S)):\n",
    "    topHits = S[i,:].argsort()[::-1][:10]\n",
    "    simObject = {\"volumeKey\":data[i][\"volumeKey\"], \n",
    "                 \"questionKey\":data[i][\"questionKey\"],\n",
    "                 \"articleKey\":data[i][\"articleKey\"]}\n",
    "    ranks = []\n",
    "    j=0\n",
    "    for hit in topHits:\n",
    "        if j == 0:\n",
    "            j+=1\n",
    "            continue\n",
    "        \n",
    "        ranks.append({\"rank\":j,\n",
    "                      \"volumeKey\":data[hit][\"volumeKey\"], \n",
    "                      \"questionKey\":data[hit][\"questionKey\"],\n",
    "                      \"articleKey\":data[hit][\"articleKey\"]})\n",
    "        j+=1\n",
    "    simObject[\"ranks\"] = ranks\n",
    "    similarity_records.append(simObject)\n",
    "    \n",
    "similarity_records[0]\n",
    "print(len(similarity_records))"
   ]
  },
  {
   "cell_type": "code",
   "execution_count": 16,
   "metadata": {},
   "outputs": [],
   "source": [
    "with open(\"aquinas_similarity.json\", \"w\") as handle:\n",
    "    json.dump(similarity_records, handle)"
   ]
  },
  {
   "cell_type": "code",
   "execution_count": null,
   "metadata": {},
   "outputs": [],
   "source": []
  }
 ],
 "metadata": {
  "kernelspec": {
   "display_name": "Python 3",
   "language": "python",
   "name": "python3"
  },
  "language_info": {
   "codemirror_mode": {
    "name": "ipython",
    "version": 3
   },
   "file_extension": ".py",
   "mimetype": "text/x-python",
   "name": "python",
   "nbconvert_exporter": "python",
   "pygments_lexer": "ipython3",
   "version": "3.7.6"
  }
 },
 "nbformat": 4,
 "nbformat_minor": 4
}
